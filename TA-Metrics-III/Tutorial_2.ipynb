{
 "cells": [
  {
   "cell_type": "markdown",
   "id": "61de5154-cdcb-4e58-8232-f2847cf6ae9a",
   "metadata": {},
   "source": [
    "# Metrics III - Exercise class 2\n",
    "\n",
    "This notebook contains the coding material for the second TA-session of the PhD core course Statistics and Econometrics 3, part 1 (EUI, 2025). \n",
    "\n",
    "*Any errors are my own, in case of conflicts always follow the [course material](https://jesusbueren.github.io/teaching/)\n",
    " provided.*\n",
    "\n",
    "Questions can be asked during TA-sessions, office hours, or by email. \n",
    "\n",
    "**TA-Sessions**\n",
    "\n",
    "- 07-02-2025 at 14:00\n",
    "- 12-02-2025 at 14:00\n",
    "- 20-02-2025 at 14:00\n",
    "\n",
    "**Office hours**\n",
    "\n",
    "- Tuesday 18-02; 09:00-11:00\n",
    "\n",
    "**PS submission guidelines + general remarks**\n",
    "\n",
    "Please submit **one** file, containing text, code, calculations. (Think RMarkdown, Jupyter Notebook, Overleaf with minted environment appendix with code).\n",
    "\n",
    "Try to code from scratch, and not to use built-in functions. Try to write your own functions. "
   ]
  },
  {
   "cell_type": "code",
   "execution_count": 1,
   "id": "01c18482-c461-46bd-b913-01ae829c3eb2",
   "metadata": {},
   "outputs": [
    {
     "name": "stderr",
     "output_type": "stream",
     "text": [
      "── \u001b[1mAttaching core tidyverse packages\u001b[22m ──────────────────────────────────────────────────────────────── tidyverse 2.0.0 ──\n",
      "\u001b[32m✔\u001b[39m \u001b[34mdplyr    \u001b[39m 1.1.4     \u001b[32m✔\u001b[39m \u001b[34mreadr    \u001b[39m 2.1.5\n",
      "\u001b[32m✔\u001b[39m \u001b[34mforcats  \u001b[39m 1.0.0     \u001b[32m✔\u001b[39m \u001b[34mstringr  \u001b[39m 1.5.1\n",
      "\u001b[32m✔\u001b[39m \u001b[34mggplot2  \u001b[39m 3.5.1     \u001b[32m✔\u001b[39m \u001b[34mtibble   \u001b[39m 3.2.1\n",
      "\u001b[32m✔\u001b[39m \u001b[34mlubridate\u001b[39m 1.9.3     \u001b[32m✔\u001b[39m \u001b[34mtidyr    \u001b[39m 1.3.1\n",
      "\u001b[32m✔\u001b[39m \u001b[34mpurrr    \u001b[39m 1.0.2     \n",
      "── \u001b[1mConflicts\u001b[22m ────────────────────────────────────────────────────────────────────────────────── tidyverse_conflicts() ──\n",
      "\u001b[31m✖\u001b[39m \u001b[34mdplyr\u001b[39m::\u001b[32mfilter()\u001b[39m masks \u001b[34mstats\u001b[39m::filter()\n",
      "\u001b[31m✖\u001b[39m \u001b[34mdplyr\u001b[39m::\u001b[32mlag()\u001b[39m    masks \u001b[34mstats\u001b[39m::lag()\n",
      "\u001b[36mℹ\u001b[39m Use the conflicted package (\u001b[3m\u001b[34m<http://conflicted.r-lib.org/>\u001b[39m\u001b[23m) to force all conflicts to become errors\n"
     ]
    }
   ],
   "source": [
    "# SET-UP\n",
    "library(tidyverse)\n",
    "library(ggplot2)\n",
    "\n",
    "options(warn=-1)\n",
    "\n",
    "set.seed(42)"
   ]
  },
  {
   "cell_type": "markdown",
   "id": "080da5cb-dd7c-4d29-a96d-ce2631be68a7",
   "metadata": {},
   "source": [
    "## Exercise 1\n",
    "\n",
    "Let's again use the AR(1) process to illustrate the different parts of the exercise: $y_t = 0.7 y_{t-1} + u_t$"
   ]
  },
  {
   "cell_type": "code",
   "execution_count": 2,
   "id": "96c51ccd-7a86-4e68-988f-c28d9a429061",
   "metadata": {},
   "outputs": [],
   "source": [
    "# Simulate data: \n",
    "phi <- 0.7\n",
    "window <- 500\n",
    "y0 <- 0\n",
    "\n",
    "# Initialize empty data frame up to window T\n",
    "df <- data.frame(\n",
    "  \"y\" = c(y0, rep(0, window)), # add initial value, y_{-1}\n",
    "  \"u_t\" = c(0, rnorm(n=window, mean=0, sd=1)) \n",
    ")\n",
    "\n",
    "# Loop over the window period to get the simulated series: \n",
    "for (i in 2:(window+1)){\n",
    "  \n",
    "  df[i, \"y\"] <- phi*df[i-1, \"y\"] + df[i, \"u_t\"]\n",
    "  \n",
    "}\n",
    "\n",
    "# Tidy\n",
    "df <- df[-1, ]\n",
    "df <- df%>%mutate(time = row_number())"
   ]
  },
  {
   "cell_type": "markdown",
   "id": "864e2a9f-8149-4753-9d88-17466220d124",
   "metadata": {},
   "source": [
    "### Conditional MLE\n",
    "\n",
    "The goal is to estimate the vector of population parameters $\\theta$. In our case $\\theta = \\{\\phi_1, \\sigma^2 \\}$. We also have a vector of initial values $y_p$, which in our case also just consists of one observation. \n",
    "\n",
    "We then re-write the AR(1) for the error term: $\\epsilon_t = y_t - \\phi_1 y_{t-1}$. \n",
    "\n",
    "Since we know the errors follow a normal distribution, we can use this in our MLE. As usual, we take the log, which gives the likelihood function: \n",
    "\n",
    "\\begin{align}\n",
    "L(\\theta) &= -\\frac{T}{2} \\log(2\\pi) - \\frac{T}{2} \\log(\\sigma^2_{\\varepsilon}) \n",
    "- \\sum_{t=1}^{T} \\frac{\\varepsilon_t^2}{2\\sigma^2_{\\varepsilon}}\n",
    "\\end{align}\n",
    "\n",
    "To implement the estimation, we have multiple options: \n",
    "\n",
    "- Grid search (EXAMPLE)\n",
    "- Solver (USED AS EXAMPLE)\n",
    "- Root finders\n",
    "\n",
    "#### Solver"
   ]
  },
  {
   "cell_type": "code",
   "execution_count": 3,
   "id": "ac7cae6b-fa94-4214-a8a9-9ad974ab0f2d",
   "metadata": {},
   "outputs": [
    {
     "name": "stdout",
     "output_type": "stream",
     "text": [
      "The true population parameter was phi = 0.7, the estimated one is 0.67471\n",
      "The true population parameter was sigma^2 = 1, the estimated one is 0.94116\n"
     ]
    }
   ],
   "source": [
    "# Function to implement the MLE \n",
    "mle <- function(params, data){\n",
    "  \n",
    "  phi <- params[[1]] # unpack parameters\n",
    "  sigmas <- params[[2]]\n",
    "  \n",
    "  time <- nrow(data)\n",
    "  res <- vector()\n",
    "  \n",
    "  for(i in (2:time)){\n",
    "    res[i] = data[i, \"y\"] - phi*data[i-1, \"y\"] # re-write in the error terms\n",
    "  }\n",
    "  \n",
    "  residual <- res[-1]\n",
    "  \n",
    "  loglikelihood <- (-1*((time-1)/2)*log(pi*2)) -  (((time-1)/2)*log(sigmas)) - sum((residual**2)/(2*sigmas)) \n",
    "  \n",
    "  return(loglikelihood)\n",
    "  \n",
    "}\n",
    "\n",
    "# Find the minimum values using an optimizer\n",
    "params <- c(0, 2) # start sigma far enough from 0 (log(0) gives -inf)\n",
    "\n",
    "minim_mle <- optim(fn=mle, par=params, method=\"BFGS\", hessian = T, control=list(fnscale=-1), data = df)\n",
    "\n",
    "phi_hat <- minim_mle$par[[1]]\n",
    "sigmas_hat <- minim_mle$par[[2]]\n",
    "\n",
    "print(glue::glue(\"The true population parameter was phi = 0.7, the estimated one is {round(phi_hat, 5)}\"))\n",
    "print(glue::glue(\"The true population parameter was sigma^2 = 1, the estimated one is {round(sigmas_hat, 5)}\"))"
   ]
  },
  {
   "cell_type": "markdown",
   "id": "c477ffec-d984-4a8f-a8d6-cd2de53ce0c9",
   "metadata": {},
   "source": [
    "#### Grid search\n",
    "\n",
    "Instead of using an optimizer, we can also take a bit more of a brute force approach. We select a grid of possible values, and calculate the log likelihood for each of the combinations of these parameter values. \n",
    "\n",
    "We then select the value with the maximum loglikelihood. As a rule of thumb it is of course important to check that the solution is not a corner point of your grid. In this well-defined optimization problem we expect to find an interior solution. If your grid search provides you with a corner solution for one of the parameters, you would want to double check by expanding your grid. "
   ]
  },
  {
   "cell_type": "code",
   "execution_count": 4,
   "id": "3bed168a-ec2a-4cf9-9f34-7e366abdaa69",
   "metadata": {},
   "outputs": [
    {
     "data": {
      "text/html": [
       "<table class=\"dataframe\">\n",
       "<caption>A data.frame: 1 × 3</caption>\n",
       "<thead>\n",
       "\t<tr><th scope=col>phi</th><th scope=col>sigma</th><th scope=col>loglikelihood</th></tr>\n",
       "\t<tr><th scope=col>&lt;dbl&gt;</th><th scope=col>&lt;dbl&gt;</th><th scope=col>&lt;dbl&gt;</th></tr>\n",
       "</thead>\n",
       "<tbody>\n",
       "\t<tr><td>0.7</td><td>0.9</td><td>-693.4807</td></tr>\n",
       "</tbody>\n",
       "</table>\n"
      ],
      "text/latex": [
       "A data.frame: 1 × 3\n",
       "\\begin{tabular}{lll}\n",
       " phi & sigma & loglikelihood\\\\\n",
       " <dbl> & <dbl> & <dbl>\\\\\n",
       "\\hline\n",
       "\t 0.7 & 0.9 & -693.4807\\\\\n",
       "\\end{tabular}\n"
      ],
      "text/markdown": [
       "\n",
       "A data.frame: 1 × 3\n",
       "\n",
       "| phi &lt;dbl&gt; | sigma &lt;dbl&gt; | loglikelihood &lt;dbl&gt; |\n",
       "|---|---|---|\n",
       "| 0.7 | 0.9 | -693.4807 |\n",
       "\n"
      ],
      "text/plain": [
       "  phi sigma loglikelihood\n",
       "1 0.7 0.9   -693.4807    "
      ]
     },
     "metadata": {},
     "output_type": "display_data"
    },
    {
     "data": {
      "text/html": [
       "<table class=\"dataframe\">\n",
       "<caption>A data.frame: 5 × 3</caption>\n",
       "<thead>\n",
       "\t<tr><th scope=col>phi</th><th scope=col>sigma</th><th scope=col>loglikelihood</th></tr>\n",
       "\t<tr><th scope=col>&lt;dbl&gt;</th><th scope=col>&lt;dbl&gt;</th><th scope=col>&lt;dbl&gt;</th></tr>\n",
       "</thead>\n",
       "<tbody>\n",
       "\t<tr><td>0.7</td><td>0.7</td><td>-705.4115</td></tr>\n",
       "\t<tr><td>0.7</td><td>0.8</td><td>-696.7461</td></tr>\n",
       "\t<tr><td>0.7</td><td>0.9</td><td>-693.4807</td></tr>\n",
       "\t<tr><td>0.7</td><td>1.0</td><td>-693.6464</td></tr>\n",
       "\t<tr><td>0.7</td><td>1.1</td><td>-696.0539</td></tr>\n",
       "</tbody>\n",
       "</table>\n"
      ],
      "text/latex": [
       "A data.frame: 5 × 3\n",
       "\\begin{tabular}{lll}\n",
       " phi & sigma & loglikelihood\\\\\n",
       " <dbl> & <dbl> & <dbl>\\\\\n",
       "\\hline\n",
       "\t 0.7 & 0.7 & -705.4115\\\\\n",
       "\t 0.7 & 0.8 & -696.7461\\\\\n",
       "\t 0.7 & 0.9 & -693.4807\\\\\n",
       "\t 0.7 & 1.0 & -693.6464\\\\\n",
       "\t 0.7 & 1.1 & -696.0539\\\\\n",
       "\\end{tabular}\n"
      ],
      "text/markdown": [
       "\n",
       "A data.frame: 5 × 3\n",
       "\n",
       "| phi &lt;dbl&gt; | sigma &lt;dbl&gt; | loglikelihood &lt;dbl&gt; |\n",
       "|---|---|---|\n",
       "| 0.7 | 0.7 | -705.4115 |\n",
       "| 0.7 | 0.8 | -696.7461 |\n",
       "| 0.7 | 0.9 | -693.4807 |\n",
       "| 0.7 | 1.0 | -693.6464 |\n",
       "| 0.7 | 1.1 | -696.0539 |\n",
       "\n"
      ],
      "text/plain": [
       "  phi sigma loglikelihood\n",
       "1 0.7 0.7   -705.4115    \n",
       "2 0.7 0.8   -696.7461    \n",
       "3 0.7 0.9   -693.4807    \n",
       "4 0.7 1.0   -693.6464    \n",
       "5 0.7 1.1   -696.0539    "
      ]
     },
     "metadata": {},
     "output_type": "display_data"
    }
   ],
   "source": [
    "# Grids to be checked\n",
    "grid_s <- seq(from = -1, to = 2, by = 0.1)\n",
    "grid_f <- seq(from = 0, to = 1, by = 0.1)\n",
    "\n",
    "# Fix that sigma^2 is not 0, because of the log\n",
    "grid_s[grid_s == 0] <- 0.0001\n",
    "\n",
    "# Extract all combinations in a data frame\n",
    "combs <- expand.grid(\"phi\" = grid_f, \"sigma\" = grid_s) \n",
    "\n",
    "# Calculate log likelihood for all \n",
    "combs$loglikelihood <- apply(combs, 1, function(row) mle(as.numeric(row), data = df))\n",
    "\n",
    "# Max negative log likelihood: \n",
    "combs%>%filter(loglikelihood == max(loglikelihood, na.rm = TRUE))\n",
    "\n",
    "# What about the true population one?? Why do we not get the LL at those of the DGP\n",
    "combs%>%filter(\n",
    "  near(0.7, phi), \n",
    "  sigma > 0.7, \n",
    "  sigma < 1.2\n",
    "  )\n",
    "\n",
    "# Darn samples!!!"
   ]
  },
  {
   "cell_type": "markdown",
   "id": "f63facf7-040e-452e-b3f3-bd5b5d20bc9d",
   "metadata": {},
   "source": [
    "### Computing information criteria\n",
    "\n",
    "Using the value of the loglikelihood found in the first part, we can calculate the information criteria. Using the formulas of the slides: "
   ]
  },
  {
   "cell_type": "code",
   "execution_count": 5,
   "id": "912c9253-37ff-4ed3-98f6-3cf6b7561675",
   "metadata": {},
   "outputs": [
    {
     "name": "stdout",
     "output_type": "stream",
     "text": [
      "[1] -692.92\n",
      "[1] \"AIC is : 1389.839942826\"\n",
      "[1] \"BIC is : 1398.26515501751\"\n"
     ]
    }
   ],
   "source": [
    "# Information needed\n",
    "k <- 2 # number of estimated params in theta vector: (k = p + q + 1)\n",
    "time <- 499 \n",
    "\n",
    "# Retrieve loglikelihood: \n",
    "ll <- minim_mle$value\n",
    "\n",
    "# Note that we were minimizing in the function, so to get correct AIC + BIC, multiply by -1\n",
    "print(ll) # note negative!\n",
    "\n",
    "# AIC\n",
    " aic <- 2 * k - (2 * ll)\n",
    "print(paste0(\"AIC is : \", aic))\n",
    "\n",
    "# BIC\n",
    "bic <-  log(time) * k - (2 * ll)\n",
    "print(paste0(\"BIC is : \", bic))"
   ]
  },
  {
   "cell_type": "markdown",
   "id": "79d84ca7-fac2-4d2e-94a3-48d40a890728",
   "metadata": {},
   "source": [
    "## Appendix\n",
    "\n",
    "### Conditional MLE and OLS equivalence\n",
    "\n",
    "According to slide 12 of Ch3 of the slides, we can find $\\hat{\\beta}$ also using OLS. Specifically, conditional MLE and OLS should give exactly the same solution. So let's check:"
   ]
  },
  {
   "cell_type": "code",
   "execution_count": 7,
   "id": "abfb6093-4379-4e30-830e-83e0510e6254",
   "metadata": {},
   "outputs": [
    {
     "name": "stdout",
     "output_type": "stream",
     "text": [
      "[1] \"beta_hat of conditional MLE was: 0.674709949776257\"\n",
      "[1] \"OLS coefficients using built-in function\"\n"
     ]
    },
    {
     "data": {
      "text/plain": [
       "\n",
       "Call:\n",
       "lm(formula = y ~ lag_y, data = df)\n",
       "\n",
       "Residuals:\n",
       "     Min       1Q   Median       3Q      Max \n",
       "-2.92898 -0.65006 -0.02003  0.65634  3.04134 \n",
       "\n",
       "Coefficients:\n",
       "            Estimate Std. Error t value Pr(>|t|)    \n",
       "(Intercept) -0.03452    0.04370   -0.79     0.43    \n",
       "lag_y        0.67350    0.03318   20.30   <2e-16 ***\n",
       "---\n",
       "Signif. codes:  0 '***' 0.001 '**' 0.01 '*' 0.05 '.' 0.1 ' ' 1\n",
       "\n",
       "Residual standard error: 0.9722 on 496 degrees of freedom\n",
       "Multiple R-squared:  0.4537,\tAdjusted R-squared:  0.4526 \n",
       "F-statistic:   412 on 1 and 496 DF,  p-value: < 2.2e-16\n"
      ]
     },
     "metadata": {},
     "output_type": "display_data"
    },
    {
     "name": "stdout",
     "output_type": "stream",
     "text": [
      "[1] \"Estimated beta hat using partialling out: 0.675551240527199\"\n"
     ]
    },
    {
     "data": {
      "text/html": [
       "1389.13703554198"
      ],
      "text/latex": [
       "1389.13703554198"
      ],
      "text/markdown": [
       "1389.13703554198"
      ],
      "text/plain": [
       "[1] 1389.137"
      ]
     },
     "metadata": {},
     "output_type": "display_data"
    },
    {
     "data": {
      "text/html": [
       "1401.76883577306"
      ],
      "text/latex": [
       "1401.76883577306"
      ],
      "text/markdown": [
       "1401.76883577306"
      ],
      "text/plain": [
       "[1] 1401.769"
      ]
     },
     "metadata": {},
     "output_type": "display_data"
    }
   ],
   "source": [
    "# Add lagged value of y to the data\n",
    "df <- df%>%\n",
    "  mutate(lag_y = lag(y, n=1))%>%\n",
    "  slice_tail(n=-1)\n",
    "\n",
    "# MLE one\n",
    "print(paste0(\"beta_hat of conditional MLE was: \", phi_hat))\n",
    "\n",
    "# Using LM we get: \n",
    "mod <- lm(y ~ lag_y, data = df)\n",
    "print(paste0(\"OLS coefficients using built-in function\"))\n",
    "summary(mod)\n",
    "\n",
    "# OLS estimator for beta using partialling out [Metrics 1]\n",
    "beta_hat <- solve(t(df$lag_y) %*% df$lag_y) %*% t(df$lag_y) %*% df$y\n",
    "print(paste0(\"Estimated beta hat using partialling out: \", beta_hat))\n",
    "\n",
    "# AIC/BIC (manually adjust k argument! check ?AIC)\n",
    "AIC(mod)\n",
    "BIC(mod) "
   ]
  },
  {
   "cell_type": "markdown",
   "id": "aef2749e-590d-41f4-9016-37b3df9a08e9",
   "metadata": {},
   "source": [
    "So where do the small discrepancies between the built in function and the conditional MLE come from? \n",
    "\n",
    "This is a good illustration of why it is important to understand what built-in functions do. And what the impact is of using a sample and not the population. The linear model estimates the coefficient by default using a model with an intercept. Our true DGP does not feature an intercept. This is equivalent to $c = 0$. However, the estimated intercept $\\hat{c} \\neq 0$, meaning that the $\\hat{\\beta}$ is slightly different. "
   ]
  },
  {
   "attachments": {
    "11018e64-10d8-4732-a628-c6dd6afe8463.png": {
     "image/png": "[encoded data removed]"
    }
   },
   "cell_type": "markdown",
   "id": "2bc5982b-5e1b-4228-b245-7afd26bf71f2",
   "metadata": {},
   "source": [
    "### Numerical VCOV matrix\n",
    "\n",
    "You can also use multivariate first differences to numerically approximate the Hessian. See the formulas from [Wikipedia](https://en.wikipedia.org/wiki/Finite_difference). \n",
    "\n",
    "![image.png](attachment:11018e64-10d8-4732-a628-c6dd6afe8463.png)\n",
    "\n",
    "The `Optim` function also gives us a Hessian matrix, so let's compare: \n",
    "\n",
    "**(If you spot why the off-diagonal terms are not the same, let me know. Seems a little computation mistake there... :))**"
   ]
  },
  {
   "cell_type": "code",
   "execution_count": 8,
   "id": "e6e7da3d-a956-4eae-a923-cfc0fba61d42",
   "metadata": {},
   "outputs": [
    {
     "data": {
      "text/html": [
       "<style>\n",
       ".list-inline {list-style: none; margin:0; padding: 0}\n",
       ".list-inline>li {display: inline-block}\n",
       ".list-inline>li:not(:last-child)::after {content: \"\\00b7\"; padding: 0 .5ex}\n",
       "</style>\n",
       "<ol class=list-inline><li>0.0329752580378662</li><li>0.0595834068901419</li></ol>\n"
      ],
      "text/latex": [
       "\\begin{enumerate*}\n",
       "\\item 0.0329752580378662\n",
       "\\item 0.0595834068901419\n",
       "\\end{enumerate*}\n"
      ],
      "text/markdown": [
       "1. 0.0329752580378662\n",
       "2. 0.0595834068901419\n",
       "\n",
       "\n"
      ],
      "text/plain": [
       "[1] 0.03297526 0.05958341"
      ]
     },
     "metadata": {},
     "output_type": "display_data"
    }
   ],
   "source": [
    "# Optim's version:\n",
    "H<-solve(-minim_mle$hessian)\n",
    "sqrt(diag(H))"
   ]
  },
  {
   "cell_type": "code",
   "execution_count": 9,
   "id": "18c6c9ae-3c5f-4745-a79c-e64744b7c6ce",
   "metadata": {},
   "outputs": [
    {
     "data": {
      "text/html": [
       "<style>\n",
       ".list-inline {list-style: none; margin:0; padding: 0}\n",
       ".list-inline>li {display: inline-block}\n",
       ".list-inline>li:not(:last-child)::after {content: \"\\00b7\"; padding: 0 .5ex}\n",
       "</style>\n",
       "<ol class=list-inline><li>0.0330141013650926</li><li>0.059512587974672</li></ol>\n"
      ],
      "text/latex": [
       "\\begin{enumerate*}\n",
       "\\item 0.0330141013650926\n",
       "\\item 0.059512587974672\n",
       "\\end{enumerate*}\n"
      ],
      "text/markdown": [
       "1. 0.0330141013650926\n",
       "2. 0.059512587974672\n",
       "\n",
       "\n"
      ],
      "text/plain": [
       "[1] 0.03301410 0.05951259"
      ]
     },
     "metadata": {},
     "output_type": "display_data"
    }
   ],
   "source": [
    "# Implementation from scratch:\n",
    "numerical_hessian <- function(f, params, data, epsilon = 1e-5) {\n",
    "  \n",
    "  x <- params[1]\n",
    "  y <- params[2]\n",
    "  \n",
    "  f_xx <- (f(c(x + epsilon, y), data) - 2 * f(c(x, y), data) +  f(c(x - epsilon, y), data)) / epsilon^2\n",
    "  f_yy <- (f(c(x, y + epsilon), data) - 2 * f(c(x, y), data) +  f(c(x, y - epsilon), data)) / epsilon^2\n",
    "  f_xy <- (f(c(x + epsilon, y + epsilon), data) - f(c(x + epsilon, y - epsilon), data) - f(c(x - epsilon, y + epsilon), data) +  f(c(x - epsilon, y - epsilon), data)) / 4*epsilon^2\n",
    "  \n",
    "  hessian_matrix <- rbind(c(f_xx, f_xy), c(f_xy, f_yy)) # This is assuming symmetry: f_xy=f_yx\n",
    "  \n",
    "  return(hessian_matrix)\n",
    "}\n",
    "\n",
    "# Estimate Hessian at initial parameter values\n",
    "params_opt <- c(minim_mle$par[[1]], minim_mle$par[[2]]) # Initial guess for phi and sigma^2\n",
    "Hessian <- numerical_hessian(mle, params_opt, df, epsilon=0.01)\n",
    "\n",
    "H_num <- solve(-Hessian)\n",
    "sqrt(diag(H_num))"
   ]
  }
 ],
 "metadata": {
  "kernelspec": {
   "display_name": "R",
   "language": "R",
   "name": "ir"
  },
  "language_info": {
   "codemirror_mode": "r",
   "file_extension": ".r",
   "mimetype": "text/x-r-source",
   "name": "R",
   "pygments_lexer": "r",
   "version": "4.4.1"
  }
 },
 "nbformat": 4,
 "nbformat_minor": 5
}
