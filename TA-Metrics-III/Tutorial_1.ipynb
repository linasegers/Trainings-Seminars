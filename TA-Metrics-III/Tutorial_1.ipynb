{
 "cells": [
  {
   "cell_type": "markdown",
   "id": "61de5154-cdcb-4e58-8232-f2847cf6ae9a",
   "metadata": {},
   "source": [
    "# Metrics III - Exercise class 1\n",
    "\n",
    "This notebook contains the coding material for the first TA-session of the PhD core course Statistics and Econometrics 3, part 1 (EUI, 2025). \n",
    "\n",
    "*Any errors are my own, in case of conflicts always follow the [course material](https://jesusbueren.github.io/teaching/)\n",
    " provided.*\n",
    "\n",
    "## Planning\n",
    "\n",
    "Exercise classes are planned for 2 hours, but let's try to keep them as 1.5 hour classes. During the TA-sessions, I will give you a brief review of the most important points of the material. Additionally, the notebooks will provide example code of how to implement certain concepts from scratch. They aim to guide you through the problem sets. \n",
    "\n",
    "If there are common mistakes in the problem set, I will discuss them in the following exercise clas. In case needed, we can plan a short additional session to do this after the last problem set. \n",
    "\n",
    "Questions can be asked during TA-sessions, office hours, or by email. \n",
    "\n",
    "**TA-Sessions**\n",
    "\n",
    "- 07-02-2025 at 14:00\n",
    "- 12-02-2025 at 14:00\n",
    "- 20-02-2025 at 14:00\n",
    "\n",
    "**Office hours**\n",
    "\n",
    "tbd - Discuss\n",
    "\n",
    "## Rules of the game\n",
    "\n",
    "What do I expect from you? \n",
    "\n",
    "- I leave it up to you if you want to join the TA-sessions.\n",
    "- Try to write your own code; you can use any programming language you want.\n",
    "- Hand-in code with PS submission (for example, as a notebook, markdown, or minted environment in overleaf).\n",
    "\n",
    "What can you expect from me? \n",
    "\n",
    "- Short review of the material. Notebook with some tips for the problem set.\n",
    "- Comments on the problem sets you hand in, one evaluation in the end.\n",
    "- Solutions.\n",
    "- Review session."
   ]
  },
  {
   "cell_type": "code",
   "execution_count": 28,
   "id": "01c18482-c461-46bd-b913-01ae829c3eb2",
   "metadata": {},
   "outputs": [],
   "source": [
    "# SET-UP\n",
    "library(tidyverse)\n",
    "library(ggplot2)\n",
    "library(patchwork)\n",
    "\n",
    "set.seed(42)"
   ]
  },
  {
   "cell_type": "markdown",
   "id": "b114a452-8c4e-48c5-b924-81b2e64dddb4",
   "metadata": {},
   "source": [
    "## Tips exercises 1 and 2\n",
    "\n",
    "### Simulate IRFs\n",
    "\n",
    "There are two ways to implement this: \n",
    "\n",
    "- **Recursive calculation:** Simulate the DGP (such as an AR(2) or MA(2) process) and shock *one* period.\n",
    "- **Companion form coefficient matrix iteration:** Iterate on the first element of the $F^h$ matrix $\\forall h \\in \\{0, 1, 2, ..., H\\}$\n",
    "\n",
    "To illustrate **recursive calculation**, let's assume the DGP is a stationary AR(1): $y_t = 0.7 y_{t-1} + u_t$, where $u_t \\sim N(0, 1)$. To me, this approach is more intuitive (and could be used for MA and ARMA processes - although MA is not needed). "
   ]
  },
  {
   "cell_type": "code",
   "execution_count": 53,
   "id": "f5d1442e-c345-4047-a978-d400be7dc420",
   "metadata": {},
   "outputs": [
    {
     "data": {
      "text/html": [
       "<table class=\"dataframe\">\n",
       "<caption>A data.frame: 6 × 2</caption>\n",
       "<thead>\n",
       "\t<tr><th></th><th scope=col>y</th><th scope=col>u_t</th></tr>\n",
       "\t<tr><th></th><th scope=col>&lt;dbl&gt;</th><th scope=col>&lt;dbl&gt;</th></tr>\n",
       "</thead>\n",
       "<tbody>\n",
       "\t<tr><th scope=row>1</th><td>0</td><td>0</td></tr>\n",
       "\t<tr><th scope=row>2</th><td>0</td><td>1</td></tr>\n",
       "\t<tr><th scope=row>3</th><td>0</td><td>0</td></tr>\n",
       "\t<tr><th scope=row>4</th><td>0</td><td>0</td></tr>\n",
       "\t<tr><th scope=row>5</th><td>0</td><td>0</td></tr>\n",
       "\t<tr><th scope=row>6</th><td>0</td><td>0</td></tr>\n",
       "</tbody>\n",
       "</table>\n"
      ],
      "text/latex": [
       "A data.frame: 6 × 2\n",
       "\\begin{tabular}{r|ll}\n",
       "  & y & u\\_t\\\\\n",
       "  & <dbl> & <dbl>\\\\\n",
       "\\hline\n",
       "\t1 & 0 & 0\\\\\n",
       "\t2 & 0 & 1\\\\\n",
       "\t3 & 0 & 0\\\\\n",
       "\t4 & 0 & 0\\\\\n",
       "\t5 & 0 & 0\\\\\n",
       "\t6 & 0 & 0\\\\\n",
       "\\end{tabular}\n"
      ],
      "text/markdown": [
       "\n",
       "A data.frame: 6 × 2\n",
       "\n",
       "| <!--/--> | y &lt;dbl&gt; | u_t &lt;dbl&gt; |\n",
       "|---|---|---|\n",
       "| 1 | 0 | 0 |\n",
       "| 2 | 0 | 1 |\n",
       "| 3 | 0 | 0 |\n",
       "| 4 | 0 | 0 |\n",
       "| 5 | 0 | 0 |\n",
       "| 6 | 0 | 0 |\n",
       "\n"
      ],
      "text/plain": [
       "  y u_t\n",
       "1 0 0  \n",
       "2 0 1  \n",
       "3 0 0  \n",
       "4 0 0  \n",
       "5 0 0  \n",
       "6 0 0  "
      ]
     },
     "metadata": {},
     "output_type": "display_data"
    }
   ],
   "source": [
    "# Set-up parameters\n",
    "phi <- 0.7\n",
    "window <- 20\n",
    "y0 <- 0\n",
    "\n",
    "# Initialize empty data frame up to window T\n",
    "df <- data.frame(\n",
    "  \"y\" = c(y0, rep(0, window)), # add the initial value, this is y_{-1}\n",
    "  \"u_t\" = c(0, 1, rep(0, window - 1)) #IRF is u_1 = 1, and all others are 0\n",
    ")\n",
    "\n",
    "head(df)"
   ]
  },
  {
   "cell_type": "code",
   "execution_count": 54,
   "id": "55cc9eba-7d73-4c3c-8ff6-1cf836320381",
   "metadata": {},
   "outputs": [
    {
     "data": {
      "text/html": [
       "<table class=\"dataframe\">\n",
       "<caption>A data.frame: 6 × 2</caption>\n",
       "<thead>\n",
       "\t<tr><th></th><th scope=col>y</th><th scope=col>u_t</th></tr>\n",
       "\t<tr><th></th><th scope=col>&lt;dbl&gt;</th><th scope=col>&lt;dbl&gt;</th></tr>\n",
       "</thead>\n",
       "<tbody>\n",
       "\t<tr><th scope=row>2</th><td>1.00000</td><td>1</td></tr>\n",
       "\t<tr><th scope=row>3</th><td>0.70000</td><td>0</td></tr>\n",
       "\t<tr><th scope=row>4</th><td>0.49000</td><td>0</td></tr>\n",
       "\t<tr><th scope=row>5</th><td>0.34300</td><td>0</td></tr>\n",
       "\t<tr><th scope=row>6</th><td>0.24010</td><td>0</td></tr>\n",
       "\t<tr><th scope=row>7</th><td>0.16807</td><td>0</td></tr>\n",
       "</tbody>\n",
       "</table>\n"
      ],
      "text/latex": [
       "A data.frame: 6 × 2\n",
       "\\begin{tabular}{r|ll}\n",
       "  & y & u\\_t\\\\\n",
       "  & <dbl> & <dbl>\\\\\n",
       "\\hline\n",
       "\t2 & 1.00000 & 1\\\\\n",
       "\t3 & 0.70000 & 0\\\\\n",
       "\t4 & 0.49000 & 0\\\\\n",
       "\t5 & 0.34300 & 0\\\\\n",
       "\t6 & 0.24010 & 0\\\\\n",
       "\t7 & 0.16807 & 0\\\\\n",
       "\\end{tabular}\n"
      ],
      "text/markdown": [
       "\n",
       "A data.frame: 6 × 2\n",
       "\n",
       "| <!--/--> | y &lt;dbl&gt; | u_t &lt;dbl&gt; |\n",
       "|---|---|---|\n",
       "| 2 | 1.00000 | 1 |\n",
       "| 3 | 0.70000 | 0 |\n",
       "| 4 | 0.49000 | 0 |\n",
       "| 5 | 0.34300 | 0 |\n",
       "| 6 | 0.24010 | 0 |\n",
       "| 7 | 0.16807 | 0 |\n",
       "\n"
      ],
      "text/plain": [
       "  y       u_t\n",
       "2 1.00000 1  \n",
       "3 0.70000 0  \n",
       "4 0.49000 0  \n",
       "5 0.34300 0  \n",
       "6 0.24010 0  \n",
       "7 0.16807 0  "
      ]
     },
     "metadata": {},
     "output_type": "display_data"
    }
   ],
   "source": [
    "# Loop over the window period to get the IRF effect: \n",
    "for (i in 2:(window+1)){\n",
    "  \n",
    "  df[i, \"y\"] <- phi*df[i-1, \"y\"] + df[i, \"u_t\"]\n",
    "  \n",
    "}\n",
    "\n",
    "# Remove the first few rows that correspond to the initial observations = initial lags (here just 1)\n",
    "df <- df[-1, ]\n",
    "\n",
    "head(df)"
   ]
  },
  {
   "cell_type": "code",
   "execution_count": 55,
   "id": "d7d1b1e6-8b95-4bfc-a468-acf773c45c55",
   "metadata": {},
   "outputs": [
    {
     "data": {
      "image/png": "[encoded data removed]",
      "text/plain": [
       "plot without title"
      ]
     },
     "metadata": {
      "image/png": {
       "height": 420,
       "width": 420
      }
     },
     "output_type": "display_data"
    }
   ],
   "source": [
    "# Plot the IRF\n",
    "df%>%\n",
    "  mutate(time = row_number())%>%\n",
    "  ggplot(aes(y = y,  x = time))+\n",
    "  geom_line()+\n",
    "  labs(\n",
    "    title = \"Impulse Response Function (IRF)\", \n",
    "    x = \"Time\", \n",
    "    y = \"Response (y_t)\"\n",
    "  ) +\n",
    "  theme_light()"
   ]
  },
  {
   "cell_type": "markdown",
   "id": "3a7bc063-89e1-44ec-b557-2d72b00d3790",
   "metadata": {},
   "source": [
    "### Simulate time series\n",
    "\n",
    "To simulate the series, we need three components: \n",
    "\n",
    "1. Initial value(s)\n",
    "2. The DGP\n",
    "3. The error process (which makes $y$ a random variable)\n",
    "\n",
    "All of these components are provided in the exercises. So to use our AR(1) example, we can implement this as: "
   ]
  },
  {
   "cell_type": "code",
   "execution_count": 56,
   "id": "cace5cf0-388d-4315-9941-e743fe23525b",
   "metadata": {},
   "outputs": [
    {
     "data": {
      "image/png": "[encoded data removed]",
      "text/plain": [
       "plot without title"
      ]
     },
     "metadata": {
      "image/png": {
       "height": 420,
       "width": 420
      }
     },
     "output_type": "display_data"
    }
   ],
   "source": [
    "# Set-up parameters\n",
    "phi <- 0.7\n",
    "window <- 500\n",
    "y0 <- 0\n",
    "\n",
    "# Simulated errors\n",
    "errors <- rnorm(n=window, mean=0, sd=1)\n",
    "\n",
    "# Initialize empty data frame up to window T\n",
    "df <- data.frame(\n",
    "  \"y\" = c(y0, rep(0, window)), # add initial value, y_{-1}\n",
    "  \"u_t\" = c(0, errors) \n",
    ")\n",
    "\n",
    "# Loop over the window period to get the simulated series: \n",
    "for (i in 2:(window+1)){\n",
    "  \n",
    "  df[i, \"y\"] <- phi*df[i-1, \"y\"] + df[i, \"u_t\"]\n",
    "  \n",
    "}\n",
    "\n",
    "# Remove rows that correspond to the initial observations = initial lags (here just 1)\n",
    "df <- df[-1, ]\n",
    "\n",
    "# Plot simulated series\n",
    "df%>%\n",
    "  mutate(time = row_number())%>%\n",
    "  ggplot(aes(y = y,  x = time))+\n",
    "  geom_line()+\n",
    "  labs(\n",
    "    title = \"Simulated series for y\", \n",
    "    x = \"Time\", \n",
    "    y = \"y_t\"\n",
    "  ) +\n",
    "  theme_light()"
   ]
  },
  {
   "cell_type": "markdown",
   "id": "2e6c34c1-d8cd-4b55-866d-eceaad266cad",
   "metadata": {},
   "source": [
    "### Sample autocorrelation\n",
    "\n",
    "To get the sample autocorrelation, we use the formula: \n",
    "\n",
    "\\begin{align}\n",
    "    \\hat{\\rho_j} = \\frac{\\hat{\\gamma_j}}{\\hat{\\gamma_0}}\n",
    "\\end{align}\n",
    "\n",
    "where $\\gamma_j$ is the autocovariance, and $\\gamma_0$ simply the variance. In case of the population these are calculated as: \n",
    "\n",
    "\\begin{align}\n",
    "    \\gamma_0 = E[(y_t - \\mu)(y_t - \\mu)] \\\\\n",
    "    \\gamma_j = E[(y_t - \\mu)(y_{t-j} - \\mu)]\n",
    "\\end{align}\n",
    "\n",
    "\n",
    "The sample counterpart of the autocovariance is calculated as: \n",
    "\n",
    "\\begin{align}\n",
    "    \\hat{\\gamma_j} = \\frac{1}{T - j - 1} \\sum^T_{t=j} (y_t - \\hat{\\mu})(y_{t - j} - \\hat{\\mu}) \\\\\n",
    "    \\text{using the sample average} \\quad \\hat{\\mu} = \\frac{1}{T} \\sum^T_{t=1} y_t\n",
    "\\end{align}\n",
    "\n",
    "We can implement this in our example as: "
   ]
  },
  {
   "cell_type": "code",
   "execution_count": 60,
   "id": "b1c622a8-2fe1-4b5c-9916-029e5bb55fca",
   "metadata": {},
   "outputs": [
    {
     "name": "stdout",
     "output_type": "stream",
     "text": [
      "[1] \"Respectively, the variance (gamma0) and autocovariance (gamma2):\"\n"
     ]
    },
    {
     "data": {
      "text/html": [
       "1.72453805683497"
      ],
      "text/latex": [
       "1.72453805683497"
      ],
      "text/markdown": [
       "1.72453805683497"
      ],
      "text/plain": [
       "[1] 1.724538"
      ]
     },
     "metadata": {},
     "output_type": "display_data"
    },
    {
     "data": {
      "text/html": [
       "0.77326602950789"
      ],
      "text/latex": [
       "0.77326602950789"
      ],
      "text/markdown": [
       "0.77326602950789"
      ],
      "text/plain": [
       "[1] 0.773266"
      ]
     },
     "metadata": {},
     "output_type": "display_data"
    },
    {
     "name": "stdout",
     "output_type": "stream",
     "text": [
      "[1] \"Sample autocorrelation (rho2) then becomes:\"\n"
     ]
    },
    {
     "data": {
      "text/html": [
       "0.448390237862919"
      ],
      "text/latex": [
       "0.448390237862919"
      ],
      "text/markdown": [
       "0.448390237862919"
      ],
      "text/plain": [
       "[1] 0.4483902"
      ]
     },
     "metadata": {},
     "output_type": "display_data"
    }
   ],
   "source": [
    "autocov <- function(data, colname, j){\n",
    "  \n",
    "  correction <- 1 / (nrow(data) - 1 - j)\n",
    "  \n",
    "  data <- data%>%\n",
    "    mutate(\n",
    "      lagged = lag(!!sym(colname), n = j), \n",
    "      mu_hat = mean(!!sym(colname), na.rm=T), # note mu_hat here uses full sample, while in covariance first j obs removed\n",
    "      y_adj = !!sym(colname) - mu_hat, \n",
    "      y_lag_adj = lagged - mu_hat, \n",
    "      mult = y_adj * y_lag_adj\n",
    "    )%>%\n",
    "    summarise(\n",
    "      autocov = sum(mult, na.rm = T) * correction\n",
    "    )%>%\n",
    "    pull(autocov)\n",
    "  \n",
    "  return(data)\n",
    "}\n",
    "\n",
    "print(\"Respectively, the variance (gamma0) and autocovariance (gamma2):\")\n",
    "autocov(df, colname=\"y\", j=0) # crosscheck var(df$y)\n",
    "autocov(df, colname=\"y\", j=2)\n",
    "\n",
    "print(\"Sample autocorrelation (rho2) then becomes:\")\n",
    "autocov(df, colname=\"y\", j=2) / autocov(df, colname=\"y\", j=0)"
   ]
  },
  {
   "cell_type": "markdown",
   "id": "623437c3-bc61-4004-9f82-429845e8c1a1",
   "metadata": {},
   "source": [
    "### Partial autocorrelation\n",
    "\n",
    "1. Fit an AR(j) Model\n",
    "- Regress $y_t$ on its j previous lags:  $y_t = \\phi_1 y_{t-1} + \\phi_2 y_{t-2} + \\dots + \\phi_k y_{t-j} + u_t$\n",
    "- The PACF at lag j is the estimated coefficient $\\phi_j$, which captures the direct effect of $y_{t-j}$ on $y_t$ after controlling for the previous lags $\\{1, ..., j-1\\}$.\n",
    "2. Do this for all lags $j \\in \\{1, ..., J\\}$.\n",
    "- The process is repeated for different values of j, fitting AR(1), AR(2), ..., AR(J) models, extracting the last coefficient $\\phi_j$ each time.\n"
   ]
  },
  {
   "cell_type": "code",
   "execution_count": 63,
   "id": "b1d7e3fe-3e7c-4dde-b48a-06c1b2d5c547",
   "metadata": {},
   "outputs": [
    {
     "data": {
      "text/html": [
       "<table class=\"dataframe\">\n",
       "<caption>A data.frame: 5 × 1</caption>\n",
       "<thead>\n",
       "\t<tr><th scope=col>Coefficients</th></tr>\n",
       "\t<tr><th scope=col>&lt;dbl&gt;</th></tr>\n",
       "</thead>\n",
       "<tbody>\n",
       "\t<tr><td> 0.67265661</td></tr>\n",
       "\t<tr><td>-0.01178254</td></tr>\n",
       "\t<tr><td> 0.02824783</td></tr>\n",
       "\t<tr><td> 0.04863669</td></tr>\n",
       "\t<tr><td>-0.02232256</td></tr>\n",
       "</tbody>\n",
       "</table>\n"
      ],
      "text/latex": [
       "A data.frame: 5 × 1\n",
       "\\begin{tabular}{l}\n",
       " Coefficients\\\\\n",
       " <dbl>\\\\\n",
       "\\hline\n",
       "\t  0.67265661\\\\\n",
       "\t -0.01178254\\\\\n",
       "\t  0.02824783\\\\\n",
       "\t  0.04863669\\\\\n",
       "\t -0.02232256\\\\\n",
       "\\end{tabular}\n"
      ],
      "text/markdown": [
       "\n",
       "A data.frame: 5 × 1\n",
       "\n",
       "| Coefficients &lt;dbl&gt; |\n",
       "|---|\n",
       "|  0.67265661 |\n",
       "| -0.01178254 |\n",
       "|  0.02824783 |\n",
       "|  0.04863669 |\n",
       "| -0.02232256 |\n",
       "\n"
      ],
      "text/plain": [
       "  Coefficients\n",
       "1  0.67265661 \n",
       "2 -0.01178254 \n",
       "3  0.02824783 \n",
       "4  0.04863669 \n",
       "5 -0.02232256 "
      ]
     },
     "metadata": {},
     "output_type": "display_data"
    }
   ],
   "source": [
    "PACF <- function(data, colname, max_lag) {\n",
    "  \n",
    "  regressors = NULL\n",
    "  coefficients <- NULL\n",
    "\n",
    "  y <- data[, colname]\n",
    "  \n",
    "  for (i in 1:max_lag) { \n",
    "    lagged_y <- lag(y, i)\n",
    "    regressors <- cbind(regressors, lagged_y)\n",
    "    lm_model <- lm(y ~ regressors)\n",
    "    coefficients[i] <- as.numeric(coef(lm_model)[i+1])\n",
    "  }\n",
    "  c <- data.frame(\"Coefficients\" = coefficients)\n",
    "\n",
    "    return(c)\n",
    "}\n",
    "\n",
    "PACF(df, colname=\"y\", max_lag=5)"
   ]
  },
  {
   "cell_type": "markdown",
   "id": "2476e9aa-fc32-4d63-ac8d-3de3d8659d68",
   "metadata": {},
   "source": [
    "## Tips exercise 3\n",
    "\n",
    "- It's fine to use built-in functions for the ARMA process\n",
    "- Check out the Box-Jenkins modelling approach (slide 21)\n",
    "- Check out the AIC and BIC criteria for model selection"
   ]
  },
  {
   "cell_type": "markdown",
   "id": "8d28ca2e-08a7-4fe9-8dcf-c3cba3111d62",
   "metadata": {},
   "source": [
    "## Appendix\n",
    "\n",
    "### Companion matrix iteration \n",
    "\n",
    "To see how you can generalize this to matrix notation, consider the second order linear difference equation $y_t = \\phi_1 y_{t - 1} + \\phi_2 y_{t - 2} + u_t$. Using the first two periods we can write this down as the following system of equations: \n",
    "\n",
    "\\begin{align}\n",
    "\\begin{bmatrix} \n",
    "    y_1 \\\\ \n",
    "    y_0 \n",
    "\\end{bmatrix} = \n",
    "\\begin{bmatrix} \n",
    "    \\phi_1 & \\phi_2 \\\\ \n",
    "    1 & 0 \n",
    "\\end{bmatrix} \n",
    "\\begin{bmatrix} \n",
    "    y_0 \\\\ \n",
    "    y_{-1} \n",
    "\\end{bmatrix} \n",
    "+ \n",
    "\\begin{bmatrix} \n",
    "    u_1 \\\\ \n",
    "    0 \n",
    "\\end{bmatrix} \n",
    "\\end{align}\n",
    "\n",
    "Which if you write it out, gives us the following system of two equations and two unknowns (we could solve for the **$\\phi$** if we would have **y** and $u_1$): \n",
    "\n",
    "\\begin{align}\n",
    "y_1 = \\phi_1 y_0 + \\phi_2 y_{-1} + u_1 \\\\\n",
    "y_0 = y_0 + 0\n",
    "\\end{align}\n",
    "\n",
    "So if we define **$F$** as the matrix of coefficients, and **$Y_t$** as the vector containing the pth last values of $y$, and **$U_t$** as a vector of $u_t$ and zeros; the pth order difference equation can be written recursively in matrix notation as: \n",
    "\n",
    "\\begin{align}\n",
    "\\mathbf{Y_t} = \\mathbf{F} \\mathbf{Y_{t-1}} + {U_t}\n",
    "\\end{align}\n",
    "\n",
    "To get the effect of a shock in $u_1 = 1$, when all other $u$ terms are zero, we iterate over the $F$ matrix until $T$. Specifically, we iterate on the first element of the $F^t$ matrix $\\forall t \\in \\{0, 1, 2, ..., T\\}$. Let's use the AR(2) process $y_t = 1.3 y_{t-1} - 0.4 y_{t-2} + u_t$ as an example. \n",
    "\n",
    "Note that: \n",
    "\n",
    "\\begin{align}\n",
    "F^2 = \n",
    "\\begin{bmatrix} \n",
    "    \\phi_1 & \\phi_2 \\\\ \n",
    "    1 & 0 \n",
    "\\end{bmatrix} \n",
    "\\begin{bmatrix} \n",
    "    \\phi_1 & \\phi_2 \\\\ \n",
    "    1 & 0 \n",
    "\\end{bmatrix} = \n",
    "\\begin{bmatrix} \n",
    "    \\phi_1^2 + \\phi_2 & \\phi_2 \\phi_1 \\\\ \n",
    "    \\phi_1 & \\phi_2 \n",
    "\\end{bmatrix} \n",
    "\\end{align}"
   ]
  },
  {
   "cell_type": "code",
   "execution_count": 43,
   "id": "a559e111-4f40-4542-9aa3-fa502d164c21",
   "metadata": {},
   "outputs": [
    {
     "name": "stdout",
     "output_type": "stream",
     "text": [
      "     [,1] [,2]\n",
      "[1,]  1.3 -0.4\n",
      "[2,]  1.0  0.0\n"
     ]
    }
   ],
   "source": [
    "# Matrix of coefficients:\n",
    "fmat <- matrix(c(1.3, -0.4, 1, 0), nrow = 2, byrow = TRUE)\n",
    "\n",
    "print(fmat)"
   ]
  },
  {
   "cell_type": "code",
   "execution_count": 51,
   "id": "ad8a24d3-9700-4491-ac79-c0ff23cf912c",
   "metadata": {},
   "outputs": [
    {
     "data": {
      "text/html": [
       "<table class=\"dataframe\">\n",
       "<caption>A data.frame: 6 × 1</caption>\n",
       "<thead>\n",
       "\t<tr><th></th><th scope=col>irf</th></tr>\n",
       "\t<tr><th></th><th scope=col>&lt;dbl&gt;</th></tr>\n",
       "</thead>\n",
       "<tbody>\n",
       "\t<tr><th scope=row>1</th><td>1.00000</td></tr>\n",
       "\t<tr><th scope=row>2</th><td>1.30000</td></tr>\n",
       "\t<tr><th scope=row>3</th><td>1.29000</td></tr>\n",
       "\t<tr><th scope=row>4</th><td>1.15700</td></tr>\n",
       "\t<tr><th scope=row>5</th><td>0.98810</td></tr>\n",
       "\t<tr><th scope=row>6</th><td>0.82173</td></tr>\n",
       "</tbody>\n",
       "</table>\n"
      ],
      "text/latex": [
       "A data.frame: 6 × 1\n",
       "\\begin{tabular}{r|l}\n",
       "  & irf\\\\\n",
       "  & <dbl>\\\\\n",
       "\\hline\n",
       "\t1 & 1.00000\\\\\n",
       "\t2 & 1.30000\\\\\n",
       "\t3 & 1.29000\\\\\n",
       "\t4 & 1.15700\\\\\n",
       "\t5 & 0.98810\\\\\n",
       "\t6 & 0.82173\\\\\n",
       "\\end{tabular}\n"
      ],
      "text/markdown": [
       "\n",
       "A data.frame: 6 × 1\n",
       "\n",
       "| <!--/--> | irf &lt;dbl&gt; |\n",
       "|---|---|\n",
       "| 1 | 1.00000 |\n",
       "| 2 | 1.30000 |\n",
       "| 3 | 1.29000 |\n",
       "| 4 | 1.15700 |\n",
       "| 5 | 0.98810 |\n",
       "| 6 | 0.82173 |\n",
       "\n"
      ],
      "text/plain": [
       "  irf    \n",
       "1 1.00000\n",
       "2 1.30000\n",
       "3 1.29000\n",
       "4 1.15700\n",
       "5 0.98810\n",
       "6 0.82173"
      ]
     },
     "metadata": {},
     "output_type": "display_data"
    }
   ],
   "source": [
    "# Initialize empty data frame up to window T to store IRFs\n",
    "window <- 20\n",
    "\n",
    "df <- data.frame(\n",
    "  \"irf\" = c(1, rep(0, window-1) )# For this approach no initial value needed\n",
    ")\n",
    "\n",
    "# Matrix of coefficients in period 0 and 1:\n",
    "#fmat_0 <- fmat^0 # gives just 1\n",
    "fmat_n <- fmat^1 # gives just phi_1\n",
    "\n",
    "# Fill df with the IRFs \n",
    "for (i in 2:window){\n",
    "\n",
    "    if (i > 2){\n",
    "        fmat_n <- fmat_n %*% fmat\n",
    "    }\n",
    "\n",
    "    df[i, \"irf\"] = fmat_n[1,1]\n",
    "    \n",
    "}\n",
    "\n",
    "head(df)"
   ]
  },
  {
   "cell_type": "code",
   "execution_count": 52,
   "id": "56783fb9-00c6-4c23-8465-5c4425e9dc2b",
   "metadata": {},
   "outputs": [
    {
     "data": {
      "image/png": "[encoded data removed]",
      "text/plain": [
       "plot without title"
      ]
     },
     "metadata": {
      "image/png": {
       "height": 420,
       "width": 420
      }
     },
     "output_type": "display_data"
    }
   ],
   "source": [
    "# Plot the IRF\n",
    "df%>%\n",
    "  mutate(time = row_number())%>%\n",
    "  ggplot(aes(y = irf,  x = time))+\n",
    "  geom_line()+\n",
    "  labs(\n",
    "    title = \"Impulse Response Function (IRF)\", \n",
    "    x = \"Time\", \n",
    "    y = \"Response (y_t)\"\n",
    "  ) +\n",
    "  theme_light()"
   ]
  },
  {
   "cell_type": "markdown",
   "id": "e73f1dcc-0c08-41f6-bc34-050a8451b761",
   "metadata": {},
   "source": [
    "### Checking covariance-stationarity of an AR(p) process with more than 2 lags\n"
   ]
  },
  {
   "cell_type": "markdown",
   "id": "a08dbce9-4a76-42b7-8209-0a119721010f",
   "metadata": {},
   "source": [
    "**This is just for intuition (and might contain small mistakes).**\n",
    "\n",
    "We have two approaches to check for stationarity (which are intertwined): \n",
    "\n",
    "- Get the *eigenvalues* of the $F$ matrix, and check that they lie *inside* the unit circle: $|\\lambda| < 1$\n",
    "- Get the *roots* of the characteristic polynomial, and check that they lie *outside* the unit circle: $|z| > 1$\n",
    "\n",
    "In this course you would usually see processes with 1 or 2 lags, either of the variable or the error term. These are easy to calculate by hand. \n",
    "\n",
    "To understand a little better how the first approach works, let's illustrate it in an example where $p \\geq 2$. Particularly, we look at the following AR(3) process: $y_t =   0.5 y_{t-1} -0.3 y_{t-2} + 0.1 y_{t-3} + u_t$\n",
    "\n",
    "The matrix of coefficients $F$ can then be written as: \n",
    "\n",
    "\\begin{align}\n",
    "F = \n",
    "\\begin{bmatrix} \n",
    "    \\phi_1 & \\phi_2 & \\phi_3 \\\\ \n",
    "    1 & 0 & 0 \\\\\n",
    "    0 & 1 & 0\n",
    "\\end{bmatrix} = \n",
    "\\begin{bmatrix} \n",
    "    0.5 & -0.3 & 0.1 \\\\ \n",
    "    1 & 0 & 0 \\\\\n",
    "    0 & 1 & 0\n",
    "\\end{bmatrix} \n",
    "\\end{align}\n",
    "\n",
    "To get the eigenvalues $\\lambda$, we calculate $|F - \\lambda I| = 0$. \n",
    "\n",
    "We can use the determinant for this. Why? Take $v$ as the eigenvector and $I$ as the identity matrix, then: \n",
    "\n",
    "\\begin{align}\n",
    "    Fv = \\lambda v \\quad \\text{rearranging:} \\\\\n",
    "    Fv - \\lambda (I v) = 0 \\\\\n",
    "    v(F - \\lambda I) = 0\n",
    "\\end{align}\n",
    "\n",
    "Now, recall that a system of homogeneous lineary equations $Ax = 0$ has a unique solution when $Det(x)= 0$. So, we can find the eigenvalues $\\lambda$ by calculating the values that set the expression for the determinant to zero. \n",
    "\n",
    "So we consider: \n",
    "\n",
    "\\begin{align}\n",
    "|F - \\lambda I| = \n",
    "\\begin{bmatrix} \n",
    "    \\phi_1 - \\lambda & \\phi_2 & \\phi_3 \\\\ \n",
    "    1 & - \\lambda & 0 \\\\\n",
    "    0 & 1 & -\\lambda\n",
    "\\end{bmatrix} = \n",
    "\\begin{bmatrix} \n",
    "    0.5 - \\lambda & -0.3 & 0.1 \\\\ \n",
    "    1 & - \\lambda & 0 \\\\\n",
    "    0 & 1 & - \\lambda\n",
    "\\end{bmatrix} \n",
    "\\end{align}\n",
    "\n",
    "To get the determinant, expand along the last row to get: \n",
    "\n",
    "\\begin{align}\n",
    "Det(F - \\lambda I) = \n",
    "0 \\cdot \n",
    "\\begin{bmatrix} \n",
    "     -0.3 & 0.1 \\\\ \n",
    "     - \\lambda & 0 \\\\\n",
    "\\end{bmatrix} - 1 \\cdot \n",
    "\\begin{bmatrix} \n",
    "     0.5 - \\lambda & 0.1 \\\\ \n",
    "     1 & 0 \\\\\n",
    "\\end{bmatrix} + - \\lambda \\cdot\n",
    "\\begin{bmatrix} \n",
    "     0.5 - \\lambda & -0.3 \\\\ \n",
    "     1 & - \\lambda \\\\\n",
    "\\end{bmatrix} = 0\\\\\n",
    "Det(F - \\lambda I) = 0.1 - \\lambda(-\\lambda(0.5 - \\lambda) + 0.3) = 0 \\\\\n",
    "\\lambda^3 - 0.5 \\lambda^2 + 0.3 \\lambda - 0.1 = 0\n",
    "\\end{align} \n",
    "\n",
    "Which provides us with a cubic equation, which we can solve in R using: "
   ]
  },
  {
   "cell_type": "code",
   "execution_count": 66,
   "id": "61cba7a3-cc6a-420a-bf4c-7e4c7b1e845b",
   "metadata": {},
   "outputs": [
    {
     "data": {
      "text/html": [
       "<style>\n",
       ".list-inline {list-style: none; margin:0; padding: 0}\n",
       ".list-inline>li {display: inline-block}\n",
       ".list-inline>li:not(:last-child)::after {content: \"\\00b7\"; padding: 0 .5ex}\n",
       "</style>\n",
       "<ol class=list-inline><li>0.0553676793700687</li><li>0.0553676793700687</li><li>0.389264641259863</li></ol>\n"
      ],
      "text/latex": [
       "\\begin{enumerate*}\n",
       "\\item 0.0553676793700687\n",
       "\\item 0.0553676793700687\n",
       "\\item 0.389264641259863\n",
       "\\end{enumerate*}\n"
      ],
      "text/markdown": [
       "1. 0.0553676793700687\n",
       "2. 0.0553676793700687\n",
       "3. 0.389264641259863\n",
       "\n",
       "\n"
      ],
      "text/plain": [
       "[1] 0.05536768 0.05536768 0.38926464"
      ]
     },
     "metadata": {},
     "output_type": "display_data"
    },
    {
     "data": {
      "text/html": [
       "<style>\n",
       ".list-inline {list-style: none; margin:0; padding: 0}\n",
       ".list-inline>li {display: inline-block}\n",
       ".list-inline>li:not(:last-child)::after {content: \"\\00b7\"; padding: 0 .5ex}\n",
       "</style>\n",
       "<ol class=list-inline><li>0.0553676793700688</li><li>0.0553676793700688</li><li>0.389264641259863</li></ol>\n"
      ],
      "text/latex": [
       "\\begin{enumerate*}\n",
       "\\item 0.0553676793700688\n",
       "\\item 0.0553676793700688\n",
       "\\item 0.389264641259863\n",
       "\\end{enumerate*}\n"
      ],
      "text/markdown": [
       "1. 0.0553676793700688\n",
       "2. 0.0553676793700688\n",
       "3. 0.389264641259863\n",
       "\n",
       "\n"
      ],
      "text/plain": [
       "[1] 0.05536768 0.05536768 0.38926464"
      ]
     },
     "metadata": {},
     "output_type": "display_data"
    }
   ],
   "source": [
    "# Get the coefficients that solve the cubic equation:\n",
    "lambdas = polyroot(c(-0.1, 0.3, -0.5, 1)) # note the order c( constant, l, l^2, l^3)\n",
    "Re(rev(lambdas))    \n",
    "\n",
    "# Cross-check with built-in function: \n",
    "fmat <- matrix(c(0.5, -0.3, 0.1, 1, 0, 0, 0, 1, 0), nrow = 3, byrow = TRUE)\n",
    "Re(eigen(fmat)$values)"
   ]
  },
  {
   "cell_type": "markdown",
   "id": "0a70bf1f-f107-4f05-854f-ef940d18fe88",
   "metadata": {},
   "source": [
    "All eigenvalues lie inside the unit circle $|\\lambda| < 1$. What about the characteristic polynomial? $1 - 0.5 z + 0.3 z^2 - 0.1 z^3 = 0$:"
   ]
  },
  {
   "cell_type": "code",
   "execution_count": 67,
   "id": "a0961a50-1def-4f06-bb14-86b0a10d1087",
   "metadata": {},
   "outputs": [
    {
     "name": "stdout",
     "output_type": "stream",
     "text": [
      "[1] 1.972979 1.972979 2.568946\n"
     ]
    },
    {
     "data": {
      "text/html": [
       "TRUE"
      ],
      "text/latex": [
       "TRUE"
      ],
      "text/markdown": [
       "TRUE"
      ],
      "text/plain": [
       "[1] TRUE"
      ]
     },
     "metadata": {},
     "output_type": "display_data"
    }
   ],
   "source": [
    "# AR(3) coefficients\n",
    "phi <- c(0.5, -0.3, 0.1)\n",
    "\n",
    "# Compute characteristic polynomial roots\n",
    "roots <- polyroot(c(1, -phi))\n",
    "\n",
    "# Check modulus of roots\n",
    "modulus_roots <- Mod(roots)\n",
    "print(modulus_roots)\n",
    "\n",
    "# If all roots have modulus > 1, the process is stationary\n",
    "all(modulus_roots > 1)"
   ]
  },
  {
   "cell_type": "code",
   "execution_count": 69,
   "id": "ba667a8a-70f7-4068-9790-0bdb75c7631c",
   "metadata": {},
   "outputs": [
    {
     "data": {
      "text/html": [
       "<style>\n",
       ".list-inline {list-style: none; margin:0; padding: 0}\n",
       ".list-inline>li {display: inline-block}\n",
       ".list-inline>li:not(:last-child)::after {content: \"\\00b7\"; padding: 0 .5ex}\n",
       "</style>\n",
       "<ol class=list-inline><li>0.50684774864375</li><li>0.50684774864375</li><li>0.389264641259863</li></ol>\n"
      ],
      "text/latex": [
       "\\begin{enumerate*}\n",
       "\\item 0.50684774864375\n",
       "\\item 0.50684774864375\n",
       "\\item 0.389264641259863\n",
       "\\end{enumerate*}\n"
      ],
      "text/markdown": [
       "1. 0.50684774864375\n",
       "2. 0.50684774864375\n",
       "3. 0.389264641259863\n",
       "\n",
       "\n"
      ],
      "text/plain": [
       "[1] 0.5068477 0.5068477 0.3892646"
      ]
     },
     "metadata": {},
     "output_type": "display_data"
    }
   ],
   "source": [
    "# What is the relation between the roots and eigenvalues here? \n",
    "1 / modulus_roots"
   ]
  }
 ],
 "metadata": {
  "kernelspec": {
   "display_name": "R",
   "language": "R",
   "name": "ir"
  },
  "language_info": {
   "codemirror_mode": "r",
   "file_extension": ".r",
   "mimetype": "text/x-r-source",
   "name": "R",
   "pygments_lexer": "r",
   "version": "4.4.1"
  }
 },
 "nbformat": 4,
 "nbformat_minor": 5
}
