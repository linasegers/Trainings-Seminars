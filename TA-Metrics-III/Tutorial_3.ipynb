{
 "cells": [
  {
   "cell_type": "markdown",
   "id": "61de5154-cdcb-4e58-8232-f2847cf6ae9a",
   "metadata": {},
   "source": [
    "# Metrics III - Exercise class 3\n",
    "\n",
    "This notebook contains the coding material for the third TA-session of the PhD core course Statistics and Econometrics 3, part 1 (EUI, 2025). \n",
    "\n",
    "*Any errors are my own, in case of conflicts always follow the [course material](https://jesusbueren.github.io/teaching/)\n",
    " provided.*\n",
    "\n",
    "Questions can be asked during TA-sessions, office hours, or by email. \n",
    "\n",
    "**TA-Sessions**\n",
    "\n",
    "- 07-02-2025 at 14:00\n",
    "- 12-02-2025 at 14:00\n",
    "- 20-02-2025 at 14:00\n",
    "\n",
    "**Office hours**\n",
    "\n",
    "- Tuesday 18-02; 09:00-11:00\n",
    "\n",
    "**PS submission guidelines + general remarks**\n",
    "\n",
    "Please submit **one** file, containing text, code, calculations. (Think RMarkdown, Jupyter Notebook, Overleaf with minted environment appendix with code).\n",
    "\n",
    "Try to code from scratch, and not to use built-in functions. Try to write your own functions. "
   ]
  },
  {
   "cell_type": "markdown",
   "id": "7ee02bb8-d4b4-47b0-a420-d53c95b4df20",
   "metadata": {},
   "source": [
    "## Reduced form VAR\n",
    "\n",
    "Let's look at a simple example for the components asked in the exercises: \n",
    "\n",
    "1) Granger \"Causality\"\n",
    "2) IRFs\n",
    "3) Error bands for the IRF\n",
    "\n",
    "VAR: \n",
    "\n",
    "### Simulate data\n",
    "\n",
    "$$\n",
    "\\begin{bmatrix}\n",
    "x_t \\\\\n",
    "z_t\n",
    "\\end{bmatrix}\n",
    "=\n",
    "\\begin{bmatrix}\n",
    "0.4 & -0.1 \\\\\n",
    "0.2 & 0.3\n",
    "\\end{bmatrix}\n",
    "\\begin{bmatrix}\n",
    "x_{t-1} \\\\\n",
    "z_{t-1}\n",
    "\\end{bmatrix}\n",
    "+\n",
    "\\begin{bmatrix}\n",
    "\\epsilon_{x,t} \\\\\n",
    "\\epsilon_{z,t}\n",
    "\\end{bmatrix}\n",
    "$$\n",
    "\n",
    "With $\\epsilon_t \\sim N(0, \\Omega)$, and $\\Omega = \\begin{bmatrix}\n",
    "1 & 0.1 \\\\\n",
    "0.1 & 1\n",
    "\\end{bmatrix}$"
   ]
  },
  {
   "cell_type": "code",
   "execution_count": 1,
   "id": "e0af1e2d-029f-4e1f-8b31-0b4a195be580",
   "metadata": {},
   "outputs": [
    {
     "name": "stderr",
     "output_type": "stream",
     "text": [
      "── \u001b[1mAttaching core tidyverse packages\u001b[22m ──────────────────────────────────────────────────────────────── tidyverse 2.0.0 ──\n",
      "\u001b[32m✔\u001b[39m \u001b[34mdplyr    \u001b[39m 1.1.4     \u001b[32m✔\u001b[39m \u001b[34mreadr    \u001b[39m 2.1.5\n",
      "\u001b[32m✔\u001b[39m \u001b[34mforcats  \u001b[39m 1.0.0     \u001b[32m✔\u001b[39m \u001b[34mstringr  \u001b[39m 1.5.1\n",
      "\u001b[32m✔\u001b[39m \u001b[34mggplot2  \u001b[39m 3.5.1     \u001b[32m✔\u001b[39m \u001b[34mtibble   \u001b[39m 3.2.1\n",
      "\u001b[32m✔\u001b[39m \u001b[34mlubridate\u001b[39m 1.9.3     \u001b[32m✔\u001b[39m \u001b[34mtidyr    \u001b[39m 1.3.1\n",
      "\u001b[32m✔\u001b[39m \u001b[34mpurrr    \u001b[39m 1.0.2     \n",
      "── \u001b[1mConflicts\u001b[22m ────────────────────────────────────────────────────────────────────────────────── tidyverse_conflicts() ──\n",
      "\u001b[31m✖\u001b[39m \u001b[34mdplyr\u001b[39m::\u001b[32mfilter()\u001b[39m masks \u001b[34mstats\u001b[39m::filter()\n",
      "\u001b[31m✖\u001b[39m \u001b[34mdplyr\u001b[39m::\u001b[32mlag()\u001b[39m    masks \u001b[34mstats\u001b[39m::lag()\n",
      "\u001b[36mℹ\u001b[39m Use the conflicted package (\u001b[3m\u001b[34m<http://conflicted.r-lib.org/>\u001b[39m\u001b[23m) to force all conflicts to become errors\n"
     ]
    }
   ],
   "source": [
    "# Dependencies \n",
    "library(tidyverse)\n",
    "library(ggplot2)\n",
    "library(patchwork)\n",
    "\n",
    "# Seed for reproducability \n",
    "set.seed(42)\n",
    "n <- 500\n",
    "\n",
    "# Simulate data\n",
    "omega <- matrix(c(1, 0.1, 1, 0.1), nrow=2)\n",
    "fmat <- matrix(c(0.4, -0.1, 0.2, 0.3), nrow=2)\n",
    "\n",
    "# Draw errors from a multivariate normal\n",
    "errs <- MASS::mvrnorm(n=(n+1), mu=c(0,0), Sigma = omega) \n",
    "\n",
    "# Data frame to store all data\n",
    "df <- data.frame(errs)%>%\n",
    "  rename(ex = X1, ez = X2)%>%\n",
    "  mutate(x=0, z=0, time=0:(nrow(.)-1))\n",
    "\n",
    "# Using the equations\n",
    "for (i in 2:nrow(df)){\n",
    "  \n",
    "  df[i, \"x\"] = fmat[1,1]*df[i - 1, \"x\"] + fmat[1,2]*df[i - 1, \"z\"] + df[i, \"ex\"]\n",
    "  df[i, \"z\"] = fmat[2,1]*df[i - 1, \"x\"] + fmat[2,2]*df[i - 1, \"z\"] + df[i, \"ez\"]\n",
    "\n",
    "}\n",
    "\n",
    "# Remove initial value\n",
    "df <- df[-1,]"
   ]
  },
  {
   "cell_type": "code",
   "execution_count": 2,
   "id": "9d5b5529-2fae-413d-8bc1-64eeeb27488d",
   "metadata": {},
   "outputs": [
    {
     "data": {
      "image/png": "[encoded data removed]",
      "text/plain": [
       "plot without title"
      ]
     },
     "metadata": {
      "image/png": {
       "height": 420,
       "width": 420
      }
     },
     "output_type": "display_data"
    }
   ],
   "source": [
    "# Plot the series:\n",
    "df%>%\n",
    "filter(time < 0.1*n)%>%\n",
    "ggplot(aes(x = time)) +\n",
    "  geom_line(aes(y = x, color = \"x_t\")) +\n",
    "  geom_line(aes(y = z, color = \"z_t\"), linetype = \"dashed\") +\n",
    "  labs(title = \"Simulated VAR(1) Process\", x = \"Time\", y = \"Value\") +\n",
    "  scale_color_manual(name = \"Series\", values = c(\"x_t\" = \"blue\", \"z_t\" = \"red\")) +\n",
    "  theme_minimal()"
   ]
  },
  {
   "cell_type": "markdown",
   "id": "bb3fcc49-2eb8-4a82-a0aa-519c4333f4bb",
   "metadata": {},
   "source": [
    "### Granger Causality\n",
    "\n",
    "Let's just check it out for one series. Specifically, let's see if $z_t$ helps to predict $x_t$:"
   ]
  },
  {
   "cell_type": "code",
   "execution_count": 3,
   "id": "93a90b47-d5d7-44b2-9001-f52cb0fb3390",
   "metadata": {},
   "outputs": [
    {
     "name": "stdout",
     "output_type": "stream",
     "text": [
      "\n",
      "Call:\n",
      "lm(formula = x ~ lag_x + lag_z - 1, data = df)\n",
      "\n",
      "Coefficients:\n",
      " lag_x   lag_z  \n",
      "0.3677  0.2452  \n",
      "\n",
      "\n",
      "Call:\n",
      "lm(formula = x ~ lag_x - 1, data = df)\n",
      "\n",
      "Coefficients:\n",
      " lag_x  \n",
      "0.3789  \n",
      "\n"
     ]
    }
   ],
   "source": [
    "# Add lags to the dataframe\n",
    "df <- df%>%\n",
    "  mutate(\n",
    "    lag_x = lag(x, n=1), \n",
    "    lag_z = lag(z, n=1)\n",
    "  )%>%\n",
    "  slice_tail(n=-1)\n",
    "\n",
    "# Estimate the unrestricted model: \n",
    "ur <- lm(x ~ lag_x + lag_z - 1, data=df)\n",
    "print(ur) # not too close to the top row of the fmat... Samples!!!\n",
    "\n",
    "# Estimate the restricted model phi_12 = 0\n",
    "r <- lm(x ~ lag_x - 1, data=df)\n",
    "print(r)"
   ]
  },
  {
   "cell_type": "code",
   "execution_count": 4,
   "id": "8e376ba8-2a56-4076-936a-86f85c624883",
   "metadata": {},
   "outputs": [
    {
     "name": "stdout",
     "output_type": "stream",
     "text": [
      "[1] 0.04970051\n"
     ]
    }
   ],
   "source": [
    "# Get the sum of squared residuals (SSR)\n",
    "ssr_ur <- sum((ur$residuals)^2)\n",
    "ssr_r <- sum((r$residuals)^2)\n",
    "\n",
    "# F-test (model without constant): (n-k-1)=(T - p), One restriction: q=1\n",
    "T <- nrow(df) \n",
    "ftest <- (T - 1)*((ssr_r - ssr_ur) / ssr_ur)\n",
    "\n",
    "# F-test follows chi^2 distribution: \n",
    "pval <- 1 - pchisq(ftest, 1)\n",
    "print(pval) "
   ]
  },
  {
   "cell_type": "markdown",
   "id": "c348b4bb-f8d7-4904-a5e3-8edc5d79955c",
   "metadata": {},
   "source": [
    "### IRF\n",
    "\n",
    "To get the theoretical IRF, we shock one of the errors. Let's shock $\\epsilon_{x,0} = 1$. All other errors are set to zero. Note that in contrast to what we had in the first part of the course, the shock will now propagate to the other variable as well. This means one shock generates an IRF for both $x$ and $z$. \n",
    "\n",
    "First, using simulation:"
   ]
  },
  {
   "cell_type": "code",
   "execution_count": 5,
   "id": "138deefd-e7bf-4451-a104-28ece9fcd437",
   "metadata": {},
   "outputs": [],
   "source": [
    "# Initialize empty data frame up to window T to store IRFs (keep it throughout the notebook)\n",
    "window <- 10\n",
    "\n",
    "# Empty data frame \n",
    "irfs_empty <- data.frame(\n",
    "  \"irfx\" = c(0, rep(0, window-1)), \n",
    "  \"irfz\" = c(0, rep(0, window-1)) \n",
    ")\n",
    "\n",
    "# To get quick plots: \n",
    "irf_plot <- function(data, variable){\n",
    "  p <- data%>%\n",
    "    mutate(time = row_number())%>%\n",
    "    ggplot(aes(x = time))+\n",
    "    geom_line(aes(y = !!sym(variable)), color=\"blue\")+\n",
    "    labs(\n",
    "      title = glue::glue(\"Impulse Response Function (IRF): {variable}\"), \n",
    "      x = \"Time\", \n",
    "      y = \"Response\"\n",
    "    ) +\n",
    "    theme_light()\n",
    "  return(p)\n",
    "}"
   ]
  },
  {
   "cell_type": "code",
   "execution_count": 6,
   "id": "33fe33ae-9908-4212-bb72-52e6654e2757",
   "metadata": {},
   "outputs": [
    {
     "data": {
      "image/png": "[encoded data removed]",
      "text/plain": [
       "plot without title"
      ]
     },
     "metadata": {
      "image/png": {
       "height": 420,
       "width": 420
      }
     },
     "output_type": "display_data"
    }
   ],
   "source": [
    "# Copy empty irf storage dataframe\n",
    "irfs <- irfs_empty\n",
    "irfs[1, \"irfx\"] = 1\n",
    "\n",
    "# Loop over the next periods\n",
    "for (i in 2:window){\n",
    "\n",
    "    irfs[i, \"irfx\"] = fmat[1,1]*irfs[i - 1, \"irfx\"] + fmat[1,2]*irfs[i - 1, \"irfz\"]\n",
    "    irfs[i, \"irfz\"] = fmat[2,1]*irfs[i - 1, \"irfx\"] + fmat[2,2]*irfs[i - 1, \"irfz\"]\n",
    "\n",
    "    # OR leave it as matrix algebra (cleaner): irfs[i, ] = t(fmat %*% t(irfs[i - 1,]))\n",
    "}\n",
    "\n",
    "# Plot the IRF\n",
    "p1 <- irf_plot(irfs, \"irfx\")\n",
    "p2 <- irf_plot(irfs, \"irfz\")\n",
    "\n",
    "p1+p2"
   ]
  },
  {
   "cell_type": "code",
   "execution_count": 7,
   "id": "1d13c724-b9c9-4d03-805e-c7024162a3c8",
   "metadata": {},
   "outputs": [
    {
     "name": "stdout",
     "output_type": "stream",
     "text": [
      "     [,1] [,2] [,3] [,4]\n",
      "[1,]  0.4  0.2    0    0\n",
      "[2,] -0.1  0.3    0    0\n",
      "[3,]  1.0  0.0    0    0\n",
      "[4,]  0.0  1.0    0    0\n"
     ]
    }
   ],
   "source": [
    "# Construct companion matrix\n",
    "F <- cbind(rbind(fmat, diag(x = 2)), matrix(0, nrow=4, ncol=2))\n",
    "print(F)"
   ]
  },
  {
   "cell_type": "code",
   "execution_count": 8,
   "id": "74cf8eef-48ae-4b16-b568-530811869a75",
   "metadata": {},
   "outputs": [
    {
     "data": {
      "image/png": "[encoded data removed]",
      "text/plain": [
       "plot without title"
      ]
     },
     "metadata": {
      "image/png": {
       "height": 420,
       "width": 420
      }
     },
     "output_type": "display_data"
    }
   ],
   "source": [
    "# Frame for the shocks\n",
    "irfs <- irfs_empty\n",
    "irfs[1, \"irfx\"] = 1\n",
    "\n",
    "# Iterate over F:\n",
    "F_n <- F^1 # gives just phi_1\n",
    "\n",
    "# Fill df with the IRFs \n",
    "for (i in 2:window){\n",
    "\n",
    "    if (i > 2){\n",
    "        F_n <- F_n %*% F\n",
    "    }\n",
    "\n",
    "    irfs[i, \"irfx\"] = F_n[1,1]\n",
    "    irfs[i, \"irfz\"] = F_n[2,1]\n",
    "    \n",
    "}\n",
    "\n",
    "# Plot the IRF\n",
    "p1 <- irf_plot(irfs, \"irfx\")\n",
    "p2 <- irf_plot(irfs, \"irfz\")\n",
    "\n",
    "p1+p2"
   ]
  },
  {
   "cell_type": "markdown",
   "id": "3195165b-019c-4f12-861d-fc7404a3a43f",
   "metadata": {},
   "source": [
    "### Error bands\n",
    "\n",
    "We already saw that the coefficients estimated for the F-test were not exactly the same as the ones we used to generate the sample. Therefore we want to add error bands to the IRFs. \n",
    "\n",
    "Let's follow the steps from the slides to get error bands. Basically, we want to combine all the steps we did before, and then loop over them M times. Finally, of those M draws, you want to calculate the upper 97.5 and lower 2.5 percentiles (I leave the last two steps up to you). "
   ]
  },
  {
   "cell_type": "code",
   "execution_count": 9,
   "id": "9188b451-e633-4d59-87de-42e785447c8b",
   "metadata": {},
   "outputs": [
    {
     "name": "stdout",
     "output_type": "stream",
     "text": [
      "          lag_x     lag_z\n",
      "[1,]  0.3676775 0.2452482\n",
      "[2,] -0.1046601 0.3178025\n"
     ]
    }
   ],
   "source": [
    "# Step 1: Estimate the VAR, save the errors and matrix of coefficients\n",
    "modx <- lm(x ~ lag_x + lag_z - 1, data=df)\n",
    "modz <- lm(z ~ lag_x + lag_z - 1, data=df)\n",
    "\n",
    "# Save estimated matrix of coefficients \n",
    "fmat_est <- rbind(modx$coefficients, modz$coefficients)\n",
    "\n",
    "# Different from the true one? \n",
    "print(fmat_est)"
   ]
  },
  {
   "cell_type": "code",
   "execution_count": 10,
   "id": "4d744ece-6ba7-407a-b923-67206a11cdd8",
   "metadata": {},
   "outputs": [],
   "source": [
    "# Save the errors\n",
    "df_errs <- data.frame(\n",
    "  \"res_x\" = modx$residuals, \n",
    "  \"res_z\" = modz$residuals\n",
    ")"
   ]
  },
  {
   "cell_type": "code",
   "execution_count": 11,
   "id": "90e7ed82-57da-4d88-ba72-35dc98dd4806",
   "metadata": {},
   "outputs": [],
   "source": [
    "# Step 2: Draw a sample from these errors with replacement\n",
    "t <- 100 # sample size bootstrap\n",
    "\n",
    "e_boot <- df_errs[sample(nrow(df_errs), t+1, replace = TRUE), ]\n",
    "\n",
    "# Create simulated sample with these errors\n",
    "df_sim <- data.frame(\"x\"=rep(0, t+1), \"z\"=rep(0, t+1))\n",
    "\n",
    "# Using the equations\n",
    "for (i in 2:nrow(df_sim)){\n",
    "    \n",
    "  df_sim[i,] = t(fmat %*% t(df_sim[i - 1,]) + e_boot[i,])\n",
    "}\n",
    "\n",
    "# Remove initial value\n",
    "df_sim <- df_sim[-1,]\n",
    "\n",
    "# Add lagged values\n",
    "df_sim <- df_sim%>%\n",
    "  mutate(\n",
    "    lag_x = lag(x, n=1), \n",
    "    lag_z = lag(z, n=1)\n",
    "  )%>%\n",
    "  slice_tail(n=-1)"
   ]
  },
  {
   "cell_type": "code",
   "execution_count": 12,
   "id": "39f4540c-b26c-4e00-b72d-6f61aba74ba3",
   "metadata": {},
   "outputs": [
    {
     "name": "stdout",
     "output_type": "stream",
     "text": [
      "          lag_x     lag_z\n",
      "[1,]  0.3676775 0.2452482\n",
      "[2,] -0.1046601 0.3178025\n"
     ]
    }
   ],
   "source": [
    "# Step 3: Estimate new matrix of coefficients and use for IRF:\n",
    "modx_hat <- lm(x ~ lag_x + lag_z - 1, data=df_sim)\n",
    "modz_hat <- lm(z ~ lag_x + lag_z - 1, data=df_sim)\n",
    "\n",
    "# Save estimated matrix of coefficients \n",
    "fmat_est <- rbind(modx_hat$coefficients, modz_hat$coefficients)\n",
    "print(fmat_est)"
   ]
  },
  {
   "cell_type": "code",
   "execution_count": 13,
   "id": "78ffc025-7d42-4ea9-9ad7-dc3ad29c9b0a",
   "metadata": {},
   "outputs": [
    {
     "data": {
      "text/html": [
       "<table class=\"dataframe\">\n",
       "<caption>A data.frame: 6 × 2</caption>\n",
       "<thead>\n",
       "\t<tr><th></th><th scope=col>irfx</th><th scope=col>irfz</th></tr>\n",
       "\t<tr><th></th><th scope=col>&lt;dbl&gt;</th><th scope=col>&lt;dbl&gt;</th></tr>\n",
       "</thead>\n",
       "<tbody>\n",
       "\t<tr><th scope=row>1</th><td> 1.000000e+00</td><td> 0.000000000</td></tr>\n",
       "\t<tr><th scope=row>2</th><td> 3.676775e-01</td><td>-0.104660064</td></tr>\n",
       "\t<tr><th scope=row>3</th><td> 1.095191e-01</td><td>-0.071742376</td></tr>\n",
       "\t<tr><th scope=row>4</th><td> 2.267301e-02</td><td>-0.034262175</td></tr>\n",
       "\t<tr><th scope=row>5</th><td>-6.638164e-05</td><td>-0.013261561</td></tr>\n",
       "\t<tr><th scope=row>6</th><td>-3.276781e-03</td><td>-0.004207609</td></tr>\n",
       "</tbody>\n",
       "</table>\n"
      ],
      "text/latex": [
       "A data.frame: 6 × 2\n",
       "\\begin{tabular}{r|ll}\n",
       "  & irfx & irfz\\\\\n",
       "  & <dbl> & <dbl>\\\\\n",
       "\\hline\n",
       "\t1 &  1.000000e+00 &  0.000000000\\\\\n",
       "\t2 &  3.676775e-01 & -0.104660064\\\\\n",
       "\t3 &  1.095191e-01 & -0.071742376\\\\\n",
       "\t4 &  2.267301e-02 & -0.034262175\\\\\n",
       "\t5 & -6.638164e-05 & -0.013261561\\\\\n",
       "\t6 & -3.276781e-03 & -0.004207609\\\\\n",
       "\\end{tabular}\n"
      ],
      "text/markdown": [
       "\n",
       "A data.frame: 6 × 2\n",
       "\n",
       "| <!--/--> | irfx &lt;dbl&gt; | irfz &lt;dbl&gt; |\n",
       "|---|---|---|\n",
       "| 1 |  1.000000e+00 |  0.000000000 |\n",
       "| 2 |  3.676775e-01 | -0.104660064 |\n",
       "| 3 |  1.095191e-01 | -0.071742376 |\n",
       "| 4 |  2.267301e-02 | -0.034262175 |\n",
       "| 5 | -6.638164e-05 | -0.013261561 |\n",
       "| 6 | -3.276781e-03 | -0.004207609 |\n",
       "\n"
      ],
      "text/plain": [
       "  irfx          irfz        \n",
       "1  1.000000e+00  0.000000000\n",
       "2  3.676775e-01 -0.104660064\n",
       "3  1.095191e-01 -0.071742376\n",
       "4  2.267301e-02 -0.034262175\n",
       "5 -6.638164e-05 -0.013261561\n",
       "6 -3.276781e-03 -0.004207609"
      ]
     },
     "metadata": {},
     "output_type": "display_data"
    },
    {
     "data": {
      "text/html": [
       "<table class=\"dataframe\">\n",
       "<caption>A data.frame: 6 × 2</caption>\n",
       "<thead>\n",
       "\t<tr><th></th><th scope=col>irfx</th><th scope=col>irfz</th></tr>\n",
       "\t<tr><th></th><th scope=col>&lt;dbl&gt;</th><th scope=col>&lt;dbl&gt;</th></tr>\n",
       "</thead>\n",
       "<tbody>\n",
       "\t<tr><th scope=row>1</th><td>0.000000000</td><td> 1.000000000</td></tr>\n",
       "\t<tr><th scope=row>2</th><td>0.245248190</td><td> 0.317802451</td></tr>\n",
       "\t<tr><th scope=row>3</th><td>0.168112719</td><td> 0.075330706</td></tr>\n",
       "\t<tr><th scope=row>4</th><td>0.080285985</td><td> 0.006345595</td></tr>\n",
       "\t<tr><th scope=row>5</th><td>0.031075597</td><td>-0.006386091</td></tr>\n",
       "\t<tr><th scope=row>6</th><td>0.009859621</td><td>-0.005281889</td></tr>\n",
       "</tbody>\n",
       "</table>\n"
      ],
      "text/latex": [
       "A data.frame: 6 × 2\n",
       "\\begin{tabular}{r|ll}\n",
       "  & irfx & irfz\\\\\n",
       "  & <dbl> & <dbl>\\\\\n",
       "\\hline\n",
       "\t1 & 0.000000000 &  1.000000000\\\\\n",
       "\t2 & 0.245248190 &  0.317802451\\\\\n",
       "\t3 & 0.168112719 &  0.075330706\\\\\n",
       "\t4 & 0.080285985 &  0.006345595\\\\\n",
       "\t5 & 0.031075597 & -0.006386091\\\\\n",
       "\t6 & 0.009859621 & -0.005281889\\\\\n",
       "\\end{tabular}\n"
      ],
      "text/markdown": [
       "\n",
       "A data.frame: 6 × 2\n",
       "\n",
       "| <!--/--> | irfx &lt;dbl&gt; | irfz &lt;dbl&gt; |\n",
       "|---|---|---|\n",
       "| 1 | 0.000000000 |  1.000000000 |\n",
       "| 2 | 0.245248190 |  0.317802451 |\n",
       "| 3 | 0.168112719 |  0.075330706 |\n",
       "| 4 | 0.080285985 |  0.006345595 |\n",
       "| 5 | 0.031075597 | -0.006386091 |\n",
       "| 6 | 0.009859621 | -0.005281889 |\n",
       "\n"
      ],
      "text/plain": [
       "  irfx        irfz        \n",
       "1 0.000000000  1.000000000\n",
       "2 0.245248190  0.317802451\n",
       "3 0.168112719  0.075330706\n",
       "4 0.080285985  0.006345595\n",
       "5 0.031075597 -0.006386091\n",
       "6 0.009859621 -0.005281889"
      ]
     },
     "metadata": {},
     "output_type": "display_data"
    }
   ],
   "source": [
    "# Get the IRFs using this matrix of coefficients\n",
    "\n",
    "# Frame for the shocks\n",
    "irf_iter_x <- irfs_empty\n",
    "irf_iter_z <- irfs_empty\n",
    "\n",
    "irf_iter_x[1, \"irfx\"] = 1\n",
    "irf_iter_z[1, \"irfz\"] = 1\n",
    "\n",
    "# Construct companion matrix\n",
    "F <- cbind(rbind(fmat_est, diag(x = 2)), matrix(0, nrow=4, ncol=2))\n",
    "\n",
    "# Iterate over F:\n",
    "F_n <- F^1 \n",
    "\n",
    "# Fill df with the IRFs \n",
    "for (i in 2:window){\n",
    "\n",
    "    if (i > 2){\n",
    "        F_n <- F_n %*% F\n",
    "    }\n",
    "\n",
    "    irf_iter_x[i, \"irfx\"] = F_n[1,1]\n",
    "    irf_iter_x[i, \"irfz\"] = F_n[2,1]\n",
    "    irf_iter_z[i, \"irfx\"] = F_n[1,2]\n",
    "    irf_iter_z[i, \"irfz\"] = F_n[2,2]\n",
    "    \n",
    "}\n",
    "\n",
    "head(irf_iter_x)\n",
    "head(irf_iter_z)\n",
    "\n",
    "# Step 4: Repeat the above steps M times and calculate CIs"
   ]
  },
  {
   "cell_type": "markdown",
   "id": "3551216e-485f-4885-aecf-6f489e5ccd2e",
   "metadata": {},
   "source": [
    "### Cholesky decomposition\n",
    "\n",
    "So what when we instead want to look at structural VARs? Make sure you order your equations in such a way that they align with the identifying assumptions you have made (which you draw based on economic intuition). To get the $B_0^{-1}$:"
   ]
  },
  {
   "cell_type": "code",
   "execution_count": 14,
   "id": "8aa334ff-22f7-4e9f-a322-13bc3dc5ae85",
   "metadata": {},
   "outputs": [],
   "source": [
    "# First, get the covariance matrix (Omega)\n",
    "e <- cbind(modx$residuals, modz$residuals)\n",
    "omega <- cov(e)\n",
    "\n",
    "# Get b0^{-1}\n",
    "P <- t(chol(omega))\n",
    "D <- diag(diag(P))\n",
    "b0inv <- P%*%solve(D)"
   ]
  },
  {
   "cell_type": "code",
   "execution_count": null,
   "id": "7ff929e7-91cf-485a-89e1-c217b0914c2b",
   "metadata": {},
   "outputs": [],
   "source": []
  }
 ],
 "metadata": {
  "kernelspec": {
   "display_name": "R",
   "language": "R",
   "name": "ir"
  },
  "language_info": {
   "codemirror_mode": "r",
   "file_extension": ".r",
   "mimetype": "text/x-r-source",
   "name": "R",
   "pygments_lexer": "r",
   "version": "4.4.1"
  }
 },
 "nbformat": 4,
 "nbformat_minor": 5
}
